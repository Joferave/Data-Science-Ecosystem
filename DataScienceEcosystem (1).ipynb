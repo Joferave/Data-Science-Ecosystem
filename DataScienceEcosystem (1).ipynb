{
 "cells": [
  {
   "cell_type": "markdown",
   "id": "8a66512d",
   "metadata": {},
   "source": [
    "# Data Science Tools and Ecosystem"
   ]
  },
  {
   "cell_type": "markdown",
   "id": "b40a139b",
   "metadata": {},
   "source": [
    "In this notebook, Data Science Tools and Ecosystem are summarized."
   ]
  },
  {
   "cell_type": "markdown",
   "id": "e54c4bb7",
   "metadata": {},
   "source": [
    "**Objectives:**\n",
    "\n",
    "- List popular languages for Data Science.\n",
    "- Introduce common libraries used in Data Science.\n",
    "- Provide examples of arithmetic expressions in Python.\n",
    "- Perform basic arithmetic operations in code cells.\n",
    "- Convert minutes to hours using mathematical expressions in Python."
   ]
  },
  {
   "cell_type": "markdown",
   "id": "f4ad2166",
   "metadata": {},
   "source": [
    "Some of the popular languages that Data Scientists use are:\n",
    "\n",
    "1. Python\n",
    "2. R\n",
    "3. Julia"
   ]
  },
  {
   "cell_type": "markdown",
   "id": "ab5d7a3d",
   "metadata": {},
   "source": [
    "Some of the commonly used libraries used by Data Scientists include:\n",
    "\n",
    "1. Pandas\n",
    "2. NumPy\n",
    "3. Matplotlib"
   ]
  },
  {
   "cell_type": "markdown",
   "id": "804c98ff",
   "metadata": {},
   "source": [
    "| Data Science Tools |\n",
    "| ------------------- |\n",
    "| Jupyter Notebooks   |\n",
    "| RStudio             |\n",
    "| VS Code             |"
   ]
  },
  {
   "cell_type": "markdown",
   "id": "fde2187a",
   "metadata": {},
   "source": [
    "### Below are a few examples of evaluating arithmetic expressions in Python.\n",
    "\n",
    "- Suma: `2 + 3` resulta en 5\n",
    "- Resta: `5 - 2` resulta en 3\n",
    "- Multiplicación: `4 * 6` resulta en 24\n",
    "- División: `8 / 2` resulta en 4.0\n",
    "- Potencia: `2 ** 3` resulta en 8"
   ]
  },
  {
   "cell_type": "code",
   "execution_count": 4,
   "id": "1a3e6d1d",
   "metadata": {},
   "outputs": [
    {
     "data": {
      "text/plain": [
       "17"
      ]
     },
     "execution_count": 4,
     "metadata": {},
     "output_type": "execute_result"
    }
   ],
   "source": [
    "#This a simple arithmetic expression to mutiply then add integers\n",
    "(3 * 4) + 5"
   ]
  },
  {
   "cell_type": "code",
   "execution_count": 3,
   "id": "fbaf9357",
   "metadata": {},
   "outputs": [
    {
     "data": {
      "text/plain": [
       "3.3333333333333335"
      ]
     },
     "execution_count": 3,
     "metadata": {},
     "output_type": "execute_result"
    }
   ],
   "source": [
    "# Esto convertirá 200 minutos a horas dividiendo por 60.\n",
    "minutos = 200\n",
    "horas = minutos / 60\n",
    "horas"
   ]
  },
  {
   "cell_type": "markdown",
   "id": "37c4ea3e",
   "metadata": {},
   "source": [
    "## Autor\n",
    "Jose Fernando Delgado Bardalez"
   ]
  },
  {
   "cell_type": "code",
   "execution_count": null,
   "id": "31bc2b9b",
   "metadata": {},
   "outputs": [],
   "source": []
  }
 ],
 "metadata": {
  "kernelspec": {
   "display_name": "Python 3 (ipykernel)",
   "language": "python",
   "name": "python3"
  },
  "language_info": {
   "codemirror_mode": {
    "name": "ipython",
    "version": 3
   },
   "file_extension": ".py",
   "mimetype": "text/x-python",
   "name": "python",
   "nbconvert_exporter": "python",
   "pygments_lexer": "ipython3",
   "version": "3.11.5"
  }
 },
 "nbformat": 4,
 "nbformat_minor": 5
}
